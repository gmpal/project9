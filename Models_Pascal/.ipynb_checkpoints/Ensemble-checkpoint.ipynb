{
 "cells": [
  {
   "cell_type": "code",
   "execution_count": 1,
   "id": "743b92f5-54ad-4e00-be46-0221b656dca8",
   "metadata": {},
   "outputs": [],
   "source": [
    "import numpy as np\n",
    "import sklearn\n",
    "import pandas as pd\n",
    "import matplotlib.pyplot as plt\n",
    "from utils import get_train_test, get_columns"
   ]
  },
  {
   "cell_type": "code",
   "execution_count": 39,
   "id": "13b1683f-4a3e-46e5-8707-ca33b3bcb7d5",
   "metadata": {},
   "outputs": [],
   "source": [
    "window_length = 44\n",
    "horizon = 12\n",
    "total_size = int(24*4*365*2.5)\n",
    "excluded_columns = ['Datetime',\n",
    "                    'Resolution code',\n",
    "                    'Total Load',\n",
    "                    'Most recent forecast',\n",
    "                    'Most recent P10',\n",
    "                    'Most recent P90',\n",
    "                    'Day-ahead 6PM forecast',\n",
    "                    'Day-ahead 6PM P10',\n",
    "                    'Day-ahead 6PM P90',\n",
    "                    'Week-ahead forecast',\n",
    "                    #'Total Load Interpolated',\n",
    "                    #'Year',\n",
    "                    #'Month',\n",
    "                    #'Day',\n",
    "                    #'Hour',\n",
    "                    #'Minute',\n",
    "                    #'Season',\n",
    "                    #'Lockdown',\n",
    "                    'Difference with previous load',\n",
    "                    #'Difference with previous load interpolated',\n",
    "                    'Total Load Interpolated Persistence',\n",
    "                    'Total Load Persistence'\n",
    "                   ]"
   ]
  },
  {
   "cell_type": "code",
   "execution_count": 40,
   "id": "1e37ed3e-836e-43c1-b420-4cdb6d35a82e",
   "metadata": {},
   "outputs": [
    {
     "data": {
      "application/vnd.jupyter.widget-view+json": {
       "model_id": "8d567afda3e8487ca13148125f38f9a6",
       "version_major": 2,
       "version_minor": 0
      },
      "text/plain": [
       "0it [00:00, ?it/s]"
      ]
     },
     "metadata": {},
     "output_type": "display_data"
    },
    {
     "data": {
      "application/vnd.jupyter.widget-view+json": {
       "model_id": "bea5c96231d1426fa02e5143a8f1e884",
       "version_major": 2,
       "version_minor": 0
      },
      "text/plain": [
       "0it [00:00, ?it/s]"
      ]
     },
     "metadata": {},
     "output_type": "display_data"
    }
   ],
   "source": [
    "X_train, Y_train, X_test, Y_test = get_train_test(window_length, horizon, total_size, excluded_columns)"
   ]
  },
  {
   "cell_type": "code",
   "execution_count": 41,
   "id": "927fe93d-4196-4163-9362-cd56fe621f20",
   "metadata": {},
   "outputs": [
    {
     "name": "stdout",
     "output_type": "stream",
     "text": [
      "Training Input shape: (21140, 396)\n",
      "Testing Input shape: (744, 396)\n",
      "Training Output shape: (21140, 12)\n",
      "Training Output shape: (744, 12)\n"
     ]
    }
   ],
   "source": [
    "print(\"Training Input shape:\", X_train.shape)\n",
    "print(\"Testing Input shape:\", X_test.shape)\n",
    "print(\"Training Output shape:\", Y_train.shape)\n",
    "print(\"Training Output shape:\", Y_test.shape)"
   ]
  },
  {
   "cell_type": "code",
   "execution_count": 46,
   "id": "1a0d9b6f-d1c5-4eba-b19f-f4c3e989b469",
   "metadata": {},
   "outputs": [],
   "source": [
    "from xgboost import XGBRegressor\n",
    "xgb = XGBRegressor(tree_method=\"hist\", multi_strategy=\"multi_output_tree\").fit(X_train, Y_train)\n",
    "y_hat_xgb = xgb.predict(X_test)[:, :4]\n",
    "pd.DataFrame({\"Prediction\": y_hat_xgb.flatten()}).to_csv(\"xgb.csv\")"
   ]
  },
  {
   "cell_type": "code",
   "execution_count": 47,
   "id": "caab5f2c-1de0-4d77-a582-2db581419f6a",
   "metadata": {},
   "outputs": [
    {
     "name": "stdout",
     "output_type": "stream",
     "text": [
      "|Model Name|RMSE t+1|RMSE t+2|RMSE t+3|RMSE t+4|MAPE t+1|MAPE t+2|MAPE t+3|MAPE t+4|\n",
      "| |97.1314|126.705|148.767|168.467|0.00948|0.01199|0.01391|0.01581|\n"
     ]
    }
   ],
   "source": [
    "!python3 evaluate.py xgb.csv"
   ]
  },
  {
   "cell_type": "code",
   "execution_count": null,
   "id": "935976bc-7473-4cc6-b3dc-7f513d68cb58",
   "metadata": {
    "scrolled": true
   },
   "outputs": [],
   "source": [
    "from sklearn.ensemble import RandomForestRegressor\n",
    "\n",
    "rf = RandomForestRegressor().fit(X_train, Y_train)\n",
    "y_hat_rf = rf.predict(X_test)[:, :4]"
   ]
  },
  {
   "cell_type": "code",
   "execution_count": null,
   "id": "20c51c16-4a06-4c98-9239-3fcf219089dd",
   "metadata": {},
   "outputs": [],
   "source": [
    "pd.DataFrame({\"Prediction\": y_hat_rf.flatten()}).to_csv(\"rf.csv\")"
   ]
  },
  {
   "cell_type": "code",
   "execution_count": null,
   "id": "cbb7dbfb-c898-41fc-9200-b8eb7bcc2b8b",
   "metadata": {},
   "outputs": [],
   "source": [
    "!python3 evaluate.py rf.csv"
   ]
  },
  {
   "cell_type": "code",
   "execution_count": null,
   "id": "f302e62e-2c60-40f6-b432-76a6f9905009",
   "metadata": {},
   "outputs": [],
   "source": [
    "from sklearn.ensemble import ExtraTreesRegressor\n",
    "et = ExtraTreesRegressor().fit(X_train, Y_train)\n",
    "y_hat_et = et.predict(X_test)[:, :4]\n",
    "pd.DataFrame({\"Prediction\": y_hat_et.flatten()}).to_csv(\"et.csv\")"
   ]
  },
  {
   "cell_type": "code",
   "execution_count": null,
   "id": "2515cb22-e1b1-4ca9-80db-05ed3c2056a2",
   "metadata": {},
   "outputs": [],
   "source": [
    "!python3 evaluate.py et.csv"
   ]
  },
  {
   "cell_type": "code",
   "execution_count": null,
   "id": "1859c3ea-9aaf-473e-86dd-345052b3a1af",
   "metadata": {},
   "outputs": [],
   "source": []
  }
 ],
 "metadata": {
  "kernelspec": {
   "display_name": "Python 3 (ipykernel)",
   "language": "python",
   "name": "python3"
  },
  "language_info": {
   "codemirror_mode": {
    "name": "ipython",
    "version": 3
   },
   "file_extension": ".py",
   "mimetype": "text/x-python",
   "name": "python",
   "nbconvert_exporter": "python",
   "pygments_lexer": "ipython3",
   "version": "3.11.6"
  }
 },
 "nbformat": 4,
 "nbformat_minor": 5
}
