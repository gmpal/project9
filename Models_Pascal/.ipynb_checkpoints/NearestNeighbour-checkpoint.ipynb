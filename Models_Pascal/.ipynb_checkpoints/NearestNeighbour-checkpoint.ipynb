{
 "cells": [
  {
   "cell_type": "code",
   "execution_count": 5,
   "id": "743b92f5-54ad-4e00-be46-0221b656dca8",
   "metadata": {},
   "outputs": [],
   "source": [
    "import numpy as np\n",
    "import sklearn\n",
    "import pandas as pd\n",
    "import matplotlib.pyplot as plt\n",
    "from utils import get_train_test, get_columns"
   ]
  },
  {
   "cell_type": "code",
   "execution_count": 6,
   "id": "13b1683f-4a3e-46e5-8707-ca33b3bcb7d5",
   "metadata": {},
   "outputs": [],
   "source": [
    "window_length = 12\n",
    "horizon = 4\n",
    "total_size = int(24*4*365*2.5)\n",
    "excluded_columns = ['Datetime',\n",
    "                    'Resolution code',\n",
    "                    'Total Load',\n",
    "                    'Most recent forecast',\n",
    "                    'Most recent P10',\n",
    "                    'Most recent P90',\n",
    "                    'Day-ahead 6PM forecast',\n",
    "                    'Day-ahead 6PM P10',\n",
    "                    'Day-ahead 6PM P90',\n",
    "                    'Week-ahead forecast',\n",
    "                    #'Total Load Interpolated',\n",
    "                    #'Year',\n",
    "                    #'Month',\n",
    "                    #'Day',\n",
    "                    #'Hour',\n",
    "                    #'Minute',\n",
    "                    #'Season',\n",
    "                    #'Lockdown',\n",
    "                    'Difference with previous load',\n",
    "                    'Difference with previous load interpolated',\n",
    "                    'Total Load Interpolated Persistence',\n",
    "                    'Total Load Persistence'\n",
    "                   ]"
   ]
  },
  {
   "cell_type": "code",
   "execution_count": null,
   "id": "1e37ed3e-836e-43c1-b420-4cdb6d35a82e",
   "metadata": {},
   "outputs": [
    {
     "data": {
      "application/vnd.jupyter.widget-view+json": {
       "model_id": "9e60089e7e8c41828fab9e8cd366041c",
       "version_major": 2,
       "version_minor": 0
      },
      "text/plain": [
       "0it [00:00, ?it/s]"
      ]
     },
     "metadata": {},
     "output_type": "display_data"
    }
   ],
   "source": [
    "X_train, Y_train, X_test, Y_test = get_train_test(window_length, horizon, total_size, excluded_columns)"
   ]
  },
  {
   "cell_type": "code",
   "execution_count": null,
   "id": "927fe93d-4196-4163-9362-cd56fe621f20",
   "metadata": {},
   "outputs": [],
   "source": [
    "print(\"Training Input shape:\", X_train.shape)\n",
    "print(\"Testing Input shape:\", X_test.shape)\n",
    "print(\"Training Output shape:\", Y_train.shape)\n",
    "print(\"Training Output shape:\", Y_test.shape)"
   ]
  },
  {
   "cell_type": "code",
   "execution_count": 6,
   "id": "935976bc-7473-4cc6-b3dc-7f513d68cb58",
   "metadata": {},
   "outputs": [],
   "source": [
    "from sklearn.neighbors import KNeighborsTransformer\n",
    "\n",
    "knt = KNeighborsTransformer().fit(X_train, Y_train)\n",
    "y_hat_knt = knt.predict(X_test)"
   ]
  },
  {
   "cell_type": "code",
   "execution_count": 7,
   "id": "20c51c16-4a06-4c98-9239-3fcf219089dd",
   "metadata": {},
   "outputs": [],
   "source": [
    "pd.DataFrame({\"Prediction\": y_hat_knt.flatten()}).to_csv(\"knt.csv\")"
   ]
  },
  {
   "cell_type": "code",
   "execution_count": 8,
   "id": "cbb7dbfb-c898-41fc-9200-b8eb7bcc2b8b",
   "metadata": {},
   "outputs": [
    {
     "name": "stdout",
     "output_type": "stream",
     "text": [
      "|Model Name|RMSE t+1|RMSE t+2|RMSE t+3|RMSE t+4|MAPE t+1|MAPE t+2|MAPE t+3|MAPE t+4|\n",
      "| |86.4348|121.865|147.196|173.907|0.00819|0.01132|0.01372|0.01624|\n"
     ]
    }
   ],
   "source": [
    "!python3 evaluate.py knt.csv"
   ]
  }
 ],
 "metadata": {
  "kernelspec": {
   "display_name": "Python 3 (ipykernel)",
   "language": "python",
   "name": "python3"
  },
  "language_info": {
   "codemirror_mode": {
    "name": "ipython",
    "version": 3
   },
   "file_extension": ".py",
   "mimetype": "text/x-python",
   "name": "python",
   "nbconvert_exporter": "python",
   "pygments_lexer": "ipython3",
   "version": "3.11.6"
  }
 },
 "nbformat": 4,
 "nbformat_minor": 5
}
