{
 "cells": [
  {
   "cell_type": "code",
   "execution_count": 1,
   "id": "743b92f5-54ad-4e00-be46-0221b656dca8",
   "metadata": {},
   "outputs": [],
   "source": [
    "import numpy as np\n",
    "import sklearn\n",
    "import pandas as pd\n",
    "import matplotlib.pyplot as plt\n",
    "from utils import get_train_test, get_columns"
   ]
  },
  {
   "cell_type": "code",
   "execution_count": 33,
   "id": "13b1683f-4a3e-46e5-8707-ca33b3bcb7d5",
   "metadata": {},
   "outputs": [],
   "source": [
    "window_length = 44\n",
    "horizon = 4\n",
    "total_size = int(24*4*365*1.5)\n",
    "excluded_columns = ['Datetime',\n",
    "                    'Resolution code',\n",
    "                    'Total Load',\n",
    "                    'Most recent forecast',\n",
    "                    'Most recent P10',\n",
    "                    'Most recent P90',\n",
    "                    'Day-ahead 6PM forecast',\n",
    "                    'Day-ahead 6PM P10',\n",
    "                    'Day-ahead 6PM P90',\n",
    "                    'Week-ahead forecast',\n",
    "                    #'Total Load Interpolated',\n",
    "                    #'Year',\n",
    "                    #'Month',\n",
    "                    #'Day',\n",
    "                    #'Hour',\n",
    "                    #'Minute',\n",
    "                    #'Season',\n",
    "                    #'Lockdown',\n",
    "                    'Difference with previous load',\n",
    "                    #'Difference with previous load interpolated',\n",
    "                    'Total Load Interpolated Persistence',\n",
    "                    'Total Load Persistence'\n",
    "                   ]"
   ]
  },
  {
   "cell_type": "code",
   "execution_count": 34,
   "id": "1e37ed3e-836e-43c1-b420-4cdb6d35a82e",
   "metadata": {},
   "outputs": [
    {
     "data": {
      "application/vnd.jupyter.widget-view+json": {
       "model_id": "6fb62d8d00aa4ed49ca29d5def271075",
       "version_major": 2,
       "version_minor": 0
      },
      "text/plain": [
       "0it [00:00, ?it/s]"
      ]
     },
     "metadata": {},
     "output_type": "display_data"
    },
    {
     "data": {
      "application/vnd.jupyter.widget-view+json": {
       "model_id": "16558735ac734cedb4a3703193a3b6ea",
       "version_major": 2,
       "version_minor": 0
      },
      "text/plain": [
       "0it [00:00, ?it/s]"
      ]
     },
     "metadata": {},
     "output_type": "display_data"
    }
   ],
   "source": [
    "X_train, Y_train, X_test, Y_test = get_train_test(window_length, horizon, total_size, excluded_columns)"
   ]
  },
  {
   "cell_type": "code",
   "execution_count": 35,
   "id": "927fe93d-4196-4163-9362-cd56fe621f20",
   "metadata": {},
   "outputs": [
    {
     "name": "stdout",
     "output_type": "stream",
     "text": [
      "Training Input shape: (12382, 396)\n",
      "Testing Input shape: (744, 396)\n",
      "Training Output shape: (12382, 4)\n",
      "Training Output shape: (744, 4)\n"
     ]
    }
   ],
   "source": [
    "print(\"Training Input shape:\", X_train.shape)\n",
    "print(\"Testing Input shape:\", X_test.shape)\n",
    "print(\"Training Output shape:\", Y_train.shape)\n",
    "print(\"Training Output shape:\", Y_test.shape)"
   ]
  },
  {
   "cell_type": "code",
   "execution_count": 36,
   "id": "1a0d9b6f-d1c5-4eba-b19f-f4c3e989b469",
   "metadata": {},
   "outputs": [],
   "source": [
    "from xgboost import XGBRegressor\n",
    "xgb = XGBRegressor(tree_method=\"hist\", multi_strategy=\"multi_output_tree\").fit(X_train, Y_train)\n",
    "y_hat_xgb = xgb.predict(X_test)[:, :4]\n",
    "pd.DataFrame({\"Prediction\": y_hat_xgb.flatten()}).to_csv(\"xgb.csv\")"
   ]
  },
  {
   "cell_type": "code",
   "execution_count": 37,
   "id": "caab5f2c-1de0-4d77-a582-2db581419f6a",
   "metadata": {},
   "outputs": [
    {
     "name": "stdout",
     "output_type": "stream",
     "text": [
      "|Model Name|RMSE t+1|RMSE t+2|RMSE t+3|RMSE t+4|MAPE t+1|MAPE t+2|MAPE t+3|MAPE t+4|\n",
      "| |91.8003|125.230|149.717|173.781|0.00880|0.01163|0.01376|0.01643|\n"
     ]
    }
   ],
   "source": [
    "!python3 evaluate.py xgb.csv"
   ]
  },
  {
   "cell_type": "code",
   "execution_count": 45,
   "id": "f302e62e-2c60-40f6-b432-76a6f9905009",
   "metadata": {},
   "outputs": [],
   "source": [
    "from sklearn.ensemble import ExtraTreesRegressor\n",
    "et = ExtraTreesRegressor(n_estimators=500).fit(X_train, Y_train)\n",
    "y_hat_et = et.predict(X_test)[:, :4]\n",
    "pd.DataFrame({\"Prediction\": y_hat_et.flatten()}).to_csv(\"et.csv\")"
   ]
  },
  {
   "cell_type": "code",
   "execution_count": 46,
   "id": "2515cb22-e1b1-4ca9-80db-05ed3c2056a2",
   "metadata": {},
   "outputs": [
    {
     "name": "stdout",
     "output_type": "stream",
     "text": [
      "|Model Name|RMSE t+1|RMSE t+2|RMSE t+3|RMSE t+4|MAPE t+1|MAPE t+2|MAPE t+3|MAPE t+4|\n",
      "| |84.4739|116.210|139.626|161.983|0.00810|0.01089|0.01302|0.01510|\n"
     ]
    }
   ],
   "source": [
    "!python3 evaluate.py et.csv"
   ]
  },
  {
   "cell_type": "code",
   "execution_count": 40,
   "id": "935976bc-7473-4cc6-b3dc-7f513d68cb58",
   "metadata": {
    "scrolled": true
   },
   "outputs": [],
   "source": [
    "from sklearn.ensemble import RandomForestRegressor\n",
    "\n",
    "rf = RandomForestRegressor().fit(X_train, Y_train)\n",
    "y_hat_rf = rf.predict(X_test)[:, :4]"
   ]
  },
  {
   "cell_type": "code",
   "execution_count": 41,
   "id": "20c51c16-4a06-4c98-9239-3fcf219089dd",
   "metadata": {},
   "outputs": [],
   "source": [
    "pd.DataFrame({\"Prediction\": y_hat_rf.flatten()}).to_csv(\"rf.csv\")"
   ]
  },
  {
   "cell_type": "code",
   "execution_count": 42,
   "id": "cbb7dbfb-c898-41fc-9200-b8eb7bcc2b8b",
   "metadata": {},
   "outputs": [
    {
     "name": "stdout",
     "output_type": "stream",
     "text": [
      "|Model Name|RMSE t+1|RMSE t+2|RMSE t+3|RMSE t+4|MAPE t+1|MAPE t+2|MAPE t+3|MAPE t+4|\n",
      "| |86.9795|120.300|144.058|166.529|0.00831|0.01121|0.01337|0.01556|\n"
     ]
    }
   ],
   "source": [
    "!python3 evaluate.py rf.csv"
   ]
  },
  {
   "cell_type": "code",
   "execution_count": null,
   "id": "1859c3ea-9aaf-473e-86dd-345052b3a1af",
   "metadata": {},
   "outputs": [],
   "source": []
  }
 ],
 "metadata": {
  "kernelspec": {
   "display_name": "Python 3 (ipykernel)",
   "language": "python",
   "name": "python3"
  },
  "language_info": {
   "codemirror_mode": {
    "name": "ipython",
    "version": 3
   },
   "file_extension": ".py",
   "mimetype": "text/x-python",
   "name": "python",
   "nbconvert_exporter": "python",
   "pygments_lexer": "ipython3",
   "version": "3.11.6"
  }
 },
 "nbformat": 4,
 "nbformat_minor": 5
}
