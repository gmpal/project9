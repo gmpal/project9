{
 "cells": [
  {
   "cell_type": "code",
   "execution_count": 1,
   "id": "fb885443-eac6-4956-965b-91ebc4124e49",
   "metadata": {},
   "outputs": [],
   "source": [
    "import matplotlib.pyplot as plt\n",
    "import seaborn as sns\n",
    "import numpy as np\n",
    "import pandas as pd\n",
    "import scipy\n",
    "import sktime\n",
    "from datetime import datetime\n",
    "from sktime.forecasting.base import ForecastingHorizon\n",
    "from sktime.forecasting.model_selection import SlidingWindowSplitter\n",
    "from sktime.utils.plotting import plot_series\n",
    "import sklearn\n",
    "from sklearn.metrics import mean_absolute_percentage_error, mean_absolute_error, mean_squared_error, root_mean_squared_error\n",
    "from sklearn.ensemble import RandomForestRegressor\n",
    "from sklearn.model_selection import train_test_split"
   ]
  },
  {
   "cell_type": "code",
   "execution_count": 45,
   "id": "a39a83e6-0007-4cb6-abbd-b05ed12d1918",
   "metadata": {},
   "outputs": [],
   "source": [
    "excluded_columns = ['Total Load', 'Difference with previous load', 'Datetime', 'Resolution code', 'Total Load Persistence', \n",
    "                   'Most recent forecast', 'Most recent P10', 'Most recent P90', 'Day-ahead 6PM forecast',\n",
    "                    'Day-ahead 6PM P10', 'Day-ahead 6PM P90', 'Week-ahead forecast', 'Total Load Interpolated Persistence',\n",
    "                    'Difference with previous load interpolated']\n",
    "def get_windows(y, cv, shift):\n",
    "    train_windows = []\n",
    "    test_windows = []\n",
    "    for i, (train, test) in enumerate(cv.split(y[\"Total Load Interpolated\"])):\n",
    "        if not (i%shift):\n",
    "            train_windows.append(y[y.columns[~y.columns.isin(excluded_columns)]].loc[train].to_numpy().flatten())\n",
    "            test_windows.append(y.loc[test, [\"Total Load Interpolated\"]].to_numpy().flatten())\n",
    "    return train_windows, test_windows"
   ]
  },
  {
   "cell_type": "code",
   "execution_count": 46,
   "id": "33a2ed8f-7e1e-4e6a-abed-d7c022b6bf9b",
   "metadata": {},
   "outputs": [],
   "source": [
    "data = pd.read_csv(\"Processed_data.csv\")[int(-24*4*365*1.5):].reset_index()\n",
    "data = data.drop([data.columns[0], data.columns[1]], axis=1)"
   ]
  },
  {
   "cell_type": "code",
   "execution_count": 47,
   "id": "dd7e7055-7ddc-48bb-b574-8f6afebf5b90",
   "metadata": {},
   "outputs": [
    {
     "data": {
      "text/plain": [
       "Index(['Total Load Interpolated', 'Year', 'Month', 'Day', 'Hour', 'Minute',\n",
       "       'Season', 'Lockdown'],\n",
       "      dtype='object')"
      ]
     },
     "execution_count": 47,
     "metadata": {},
     "output_type": "execute_result"
    }
   ],
   "source": [
    "data.columns[~data.columns.isin(excluded_columns)]"
   ]
  },
  {
   "cell_type": "code",
   "execution_count": 81,
   "id": "0dfe8094-cb81-4361-82d5-cb671d195867",
   "metadata": {},
   "outputs": [],
   "source": [
    "window_length = 4*2\n",
    "horizon = 4\n",
    "shift = 4\n",
    "fh = ForecastingHorizon(list(range(1, horizon+1)))\n",
    "cv = SlidingWindowSplitter(window_length=window_length, fh=fh)\n",
    "n_splits = cv.get_n_splits(data)"
   ]
  },
  {
   "cell_type": "code",
   "execution_count": 82,
   "id": "8f418ecd-c11d-4f69-b1af-dd1e0fe62408",
   "metadata": {},
   "outputs": [],
   "source": [
    "x, y = get_windows(data, cv, shift)"
   ]
  },
  {
   "cell_type": "markdown",
   "id": "5267c34c-5218-4c55-8b85-f698a9a834eb",
   "metadata": {},
   "source": [
    "The models take as input:"
   ]
  },
  {
   "cell_type": "code",
   "execution_count": 83,
   "id": "278a7f2f-01f8-4c5b-82e5-92edc109ee01",
   "metadata": {},
   "outputs": [
    {
     "data": {
      "text/plain": [
       "(64,)"
      ]
     },
     "execution_count": 83,
     "metadata": {},
     "output_type": "execute_result"
    }
   ],
   "source": [
    "x[0].shape"
   ]
  },
  {
   "cell_type": "markdown",
   "id": "f627254c-af1b-4e50-807d-36e97f767ec5",
   "metadata": {},
   "source": [
    "And output a vector of size:"
   ]
  },
  {
   "cell_type": "code",
   "execution_count": 84,
   "id": "c005eb15-d4f4-4927-b150-d2e7de1ca7e6",
   "metadata": {},
   "outputs": [
    {
     "data": {
      "text/plain": [
       "(4,)"
      ]
     },
     "execution_count": 84,
     "metadata": {},
     "output_type": "execute_result"
    }
   ],
   "source": [
    "y[0].shape"
   ]
  },
  {
   "cell_type": "code",
   "execution_count": 85,
   "id": "dddf1bd2-a3c5-47d9-9d73-43a81ed20c1c",
   "metadata": {},
   "outputs": [],
   "source": [
    "X_train, X_test, Y_train, Y_test = train_test_split(x, y, test_size=0.2, shuffle=False)\n",
    "X_train, X_test, Y_train, Y_test = np.array(X_train), np.array(X_test), np.array(Y_train), np.array(Y_test)"
   ]
  },
  {
   "cell_type": "markdown",
   "id": "e8da2b9e-e1cd-4a9b-9cce-de4b52e24556",
   "metadata": {},
   "source": [
    "The datasets dimensions are then:"
   ]
  },
  {
   "cell_type": "code",
   "execution_count": 86,
   "id": "7c9b65a1-8a40-436a-bbe0-278dceb2fc12",
   "metadata": {},
   "outputs": [
    {
     "name": "stdout",
     "output_type": "stream",
     "text": [
      "Input training set: (10510, 64)\n",
      "Output training set: (2628, 64)\n",
      "Input testing set: (2628, 64)\n",
      "Output testing set: (2628, 4)\n"
     ]
    }
   ],
   "source": [
    "print(\"Input training set:\", X_train.shape)\n",
    "print(\"Output training set:\", X_test.shape)\n",
    "print(\"Input testing set:\", X_test.shape)\n",
    "print(\"Output testing set:\", Y_test.shape)"
   ]
  },
  {
   "cell_type": "code",
   "execution_count": 87,
   "id": "ba99b01e-4edb-4602-aecf-6523bb25e4b9",
   "metadata": {},
   "outputs": [],
   "source": [
    "def err(Y_test, y_hat, horizon):\n",
    "    errors = pd.DataFrame()\n",
    "    errors[\"RMSE\"] = [root_mean_squared_error(Y_test[:, i], y_hat[:, i]) for i in range(horizon)]\n",
    "    errors[\"MAPE\"] = [mean_absolute_percentage_error(Y_test[:, i], y_hat[:, i]) for i in range(horizon)]\n",
    "    errors[\"MAE\"] = [mean_absolute_error(Y_test[:, i], y_hat[:, i]) for i in range(horizon)]\n",
    "    errors[\"MSE\"] = [mean_squared_error(Y_test[:, i], y_hat[:, i]) for i in range(horizon)]\n",
    "    return errors.T"
   ]
  },
  {
   "cell_type": "code",
   "execution_count": 88,
   "id": "c1afd21e-5b84-49d9-9518-41c342b8e85e",
   "metadata": {},
   "outputs": [
    {
     "data": {
      "text/html": [
       "<div>\n",
       "<style scoped>\n",
       "    .dataframe tbody tr th:only-of-type {\n",
       "        vertical-align: middle;\n",
       "    }\n",
       "\n",
       "    .dataframe tbody tr th {\n",
       "        vertical-align: top;\n",
       "    }\n",
       "\n",
       "    .dataframe thead th {\n",
       "        text-align: right;\n",
       "    }\n",
       "</style>\n",
       "<table border=\"1\" class=\"dataframe\">\n",
       "  <thead>\n",
       "    <tr style=\"text-align: right;\">\n",
       "      <th></th>\n",
       "      <th>0</th>\n",
       "      <th>1</th>\n",
       "      <th>2</th>\n",
       "      <th>3</th>\n",
       "    </tr>\n",
       "  </thead>\n",
       "  <tbody>\n",
       "    <tr>\n",
       "      <th>RMSE</th>\n",
       "      <td>70.323294</td>\n",
       "      <td>130.730133</td>\n",
       "      <td>180.407206</td>\n",
       "      <td>221.924850</td>\n",
       "    </tr>\n",
       "    <tr>\n",
       "      <th>MAPE</th>\n",
       "      <td>0.006531</td>\n",
       "      <td>0.012072</td>\n",
       "      <td>0.016784</td>\n",
       "      <td>0.020550</td>\n",
       "    </tr>\n",
       "    <tr>\n",
       "      <th>MAE</th>\n",
       "      <td>55.240688</td>\n",
       "      <td>101.984707</td>\n",
       "      <td>141.898740</td>\n",
       "      <td>173.666551</td>\n",
       "    </tr>\n",
       "    <tr>\n",
       "      <th>MSE</th>\n",
       "      <td>4945.365620</td>\n",
       "      <td>17090.367767</td>\n",
       "      <td>32546.759949</td>\n",
       "      <td>49250.638992</td>\n",
       "    </tr>\n",
       "  </tbody>\n",
       "</table>\n",
       "</div>"
      ],
      "text/plain": [
       "                0             1             2             3\n",
       "RMSE    70.323294    130.730133    180.407206    221.924850\n",
       "MAPE     0.006531      0.012072      0.016784      0.020550\n",
       "MAE     55.240688    101.984707    141.898740    173.666551\n",
       "MSE   4945.365620  17090.367767  32546.759949  49250.638992"
      ]
     },
     "execution_count": 88,
     "metadata": {},
     "output_type": "execute_result"
    }
   ],
   "source": [
    "from sklearn.linear_model import LinearRegression\n",
    "tree = LinearRegression(n_jobs=-1)\n",
    "tree = tree.fit(X_train, Y_train)\n",
    "y_hat = tree.predict(X_test)\n",
    "err(Y_test, y_hat, horizon)"
   ]
  },
  {
   "cell_type": "code",
   "execution_count": 89,
   "id": "69b8334c-dc03-4f96-8095-1d2a6cae2968",
   "metadata": {},
   "outputs": [
    {
     "data": {
      "text/html": [
       "<div>\n",
       "<style scoped>\n",
       "    .dataframe tbody tr th:only-of-type {\n",
       "        vertical-align: middle;\n",
       "    }\n",
       "\n",
       "    .dataframe tbody tr th {\n",
       "        vertical-align: top;\n",
       "    }\n",
       "\n",
       "    .dataframe thead th {\n",
       "        text-align: right;\n",
       "    }\n",
       "</style>\n",
       "<table border=\"1\" class=\"dataframe\">\n",
       "  <thead>\n",
       "    <tr style=\"text-align: right;\">\n",
       "      <th></th>\n",
       "      <th>0</th>\n",
       "      <th>1</th>\n",
       "      <th>2</th>\n",
       "      <th>3</th>\n",
       "    </tr>\n",
       "  </thead>\n",
       "  <tbody>\n",
       "    <tr>\n",
       "      <th>RMSE</th>\n",
       "      <td>70.316868</td>\n",
       "      <td>129.136588</td>\n",
       "      <td>176.350299</td>\n",
       "      <td>217.443150</td>\n",
       "    </tr>\n",
       "    <tr>\n",
       "      <th>MAPE</th>\n",
       "      <td>0.006528</td>\n",
       "      <td>0.011907</td>\n",
       "      <td>0.016353</td>\n",
       "      <td>0.020112</td>\n",
       "    </tr>\n",
       "    <tr>\n",
       "      <th>MAE</th>\n",
       "      <td>55.222136</td>\n",
       "      <td>100.672349</td>\n",
       "      <td>138.484681</td>\n",
       "      <td>170.255694</td>\n",
       "    </tr>\n",
       "    <tr>\n",
       "      <th>MSE</th>\n",
       "      <td>4944.461875</td>\n",
       "      <td>16676.258256</td>\n",
       "      <td>31099.428123</td>\n",
       "      <td>47281.523296</td>\n",
       "    </tr>\n",
       "  </tbody>\n",
       "</table>\n",
       "</div>"
      ],
      "text/plain": [
       "                0             1             2             3\n",
       "RMSE    70.316868    129.136588    176.350299    217.443150\n",
       "MAPE     0.006528      0.011907      0.016353      0.020112\n",
       "MAE     55.222136    100.672349    138.484681    170.255694\n",
       "MSE   4944.461875  16676.258256  31099.428123  47281.523296"
      ]
     },
     "execution_count": 89,
     "metadata": {},
     "output_type": "execute_result"
    }
   ],
   "source": [
    "from sklearn.linear_model import Ridge\n",
    "tree = Ridge(alpha=10000)\n",
    "tree = tree.fit(X_train, Y_train)\n",
    "y_hat = tree.predict(X_test)\n",
    "err(Y_test, y_hat, horizon)"
   ]
  },
  {
   "cell_type": "code",
   "execution_count": 90,
   "id": "7bf07a69-204c-4259-b896-20c5d6dec46c",
   "metadata": {},
   "outputs": [
    {
     "data": {
      "text/html": [
       "<div>\n",
       "<style scoped>\n",
       "    .dataframe tbody tr th:only-of-type {\n",
       "        vertical-align: middle;\n",
       "    }\n",
       "\n",
       "    .dataframe tbody tr th {\n",
       "        vertical-align: top;\n",
       "    }\n",
       "\n",
       "    .dataframe thead th {\n",
       "        text-align: right;\n",
       "    }\n",
       "</style>\n",
       "<table border=\"1\" class=\"dataframe\">\n",
       "  <thead>\n",
       "    <tr style=\"text-align: right;\">\n",
       "      <th></th>\n",
       "      <th>0</th>\n",
       "      <th>1</th>\n",
       "      <th>2</th>\n",
       "      <th>3</th>\n",
       "    </tr>\n",
       "  </thead>\n",
       "  <tbody>\n",
       "    <tr>\n",
       "      <th>RMSE</th>\n",
       "      <td>72.922878</td>\n",
       "      <td>117.855922</td>\n",
       "      <td>151.907558</td>\n",
       "      <td>181.323774</td>\n",
       "    </tr>\n",
       "    <tr>\n",
       "      <th>MAPE</th>\n",
       "      <td>0.006709</td>\n",
       "      <td>0.010733</td>\n",
       "      <td>0.013808</td>\n",
       "      <td>0.016351</td>\n",
       "    </tr>\n",
       "    <tr>\n",
       "      <th>MAE</th>\n",
       "      <td>56.866311</td>\n",
       "      <td>91.075731</td>\n",
       "      <td>117.763807</td>\n",
       "      <td>139.768830</td>\n",
       "    </tr>\n",
       "    <tr>\n",
       "      <th>MSE</th>\n",
       "      <td>5317.746119</td>\n",
       "      <td>13890.018299</td>\n",
       "      <td>23075.906236</td>\n",
       "      <td>32878.311130</td>\n",
       "    </tr>\n",
       "  </tbody>\n",
       "</table>\n",
       "</div>"
      ],
      "text/plain": [
       "                0             1             2             3\n",
       "RMSE    72.922878    117.855922    151.907558    181.323774\n",
       "MAPE     0.006709      0.010733      0.013808      0.016351\n",
       "MAE     56.866311     91.075731    117.763807    139.768830\n",
       "MSE   5317.746119  13890.018299  23075.906236  32878.311130"
      ]
     },
     "execution_count": 90,
     "metadata": {},
     "output_type": "execute_result"
    }
   ],
   "source": [
    "tree = RandomForestRegressor(n_jobs=-1)\n",
    "tree = tree.fit(X_train, Y_train)\n",
    "y_hat = tree.predict(X_test)\n",
    "err(Y_test, y_hat, horizon)"
   ]
  },
  {
   "cell_type": "code",
   "execution_count": 91,
   "id": "ec97cfbe-e61c-4027-9ad5-357e71ef4650",
   "metadata": {},
   "outputs": [
    {
     "data": {
      "text/plain": [
       "[<matplotlib.lines.Line2D at 0x17d954590>]"
      ]
     },
     "execution_count": 91,
     "metadata": {},
     "output_type": "execute_result"
    },
    {
     "data": {
      "image/png": "[encoded data removed]",
      "text/plain": [
       "<Figure size 640x480 with 1 Axes>"
      ]
     },
     "metadata": {},
     "output_type": "display_data"
    }
   ],
   "source": [
    "plt.plot(tree.feature_importances_)"
   ]
  },
  {
   "cell_type": "markdown",
   "id": "107f7842-b2de-4b5f-b111-78a9137b0fab",
   "metadata": {},
   "source": [
    "from sklearn.linear_model import MultiTaskLasso\n",
    "tree = MultiTaskLasso(max_iter=10000)\n",
    "tree = tree.fit(X_train, Y_train)\n",
    "y_hat = tree.predict(X_test)\n",
    "err(Y_test, y_hat, horizon)"
   ]
  },
  {
   "cell_type": "markdown",
   "id": "b9fd0c1c-9294-4d34-b514-58c47331a836",
   "metadata": {},
   "source": [
    "Take the vector of the errors, compute the mean and autocorellation (-> 0 and higher possible)"
   ]
  },
  {
   "cell_type": "markdown",
   "id": "6e245a6b-b66c-4332-bea0-f2e6837ece83",
   "metadata": {},
   "source": [
    "from sklearn.neural_network import MLPRegressor\n",
    "tree = MLPRegressor(max_iter=10000)\n",
    "tree = tree.fit(X_train, Y_train)\n",
    "y_hat = tree.predict(X_test)\n",
    "err(Y_test, y_hat, horizon)"
   ]
  },
  {
   "cell_type": "code",
   "execution_count": null,
   "id": "1021724e-a984-4369-a280-b0aba44d0eca",
   "metadata": {},
   "outputs": [],
   "source": []
  }
 ],
 "metadata": {
  "kernelspec": {
   "display_name": "Python 3 (ipykernel)",
   "language": "python",
   "name": "python3"
  },
  "language_info": {
   "codemirror_mode": {
    "name": "ipython",
    "version": 3
   },
   "file_extension": ".py",
   "mimetype": "text/x-python",
   "name": "python",
   "nbconvert_exporter": "python",
   "pygments_lexer": "ipython3",
   "version": "3.11.6"
  }
 },
 "nbformat": 4,
 "nbformat_minor": 5
}
